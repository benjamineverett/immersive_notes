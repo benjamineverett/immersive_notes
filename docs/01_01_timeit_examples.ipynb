{
 "cells": [
  {
   "cell_type": "markdown",
   "metadata": {},
   "source": [
    "### Timing code snippets and functions (python 3)\n",
    "So what's faster:\n",
    "\n",
    "```python\n",
    "# Version 1\n",
    "absolute_values = []\n",
    "for elem in lst:\n",
    "    absolute_values.append(abs(elem))\n",
    "    \n",
    "# Version 2\n",
    "absolute_values = [abs(elem) for elem in lst]\n",
    "\n",
    "# Version 3\n",
    "absolute_values = list(map(abs, lst))\n",
    "```\n",
    "\n",
    "Let's test them."
   ]
  },
  {
   "cell_type": "code",
   "execution_count": 1,
   "metadata": {
    "collapsed": true
   },
   "outputs": [],
   "source": [
    "# first make a decently sized list of positive and negative integers\n",
    "import numpy as np\n",
    "# 5000 random integers from -1000 to 1000\n",
    "lst = list(np.random.randint(-1000, 1001, size=5000))"
   ]
  },
  {
   "cell_type": "code",
   "execution_count": 2,
   "metadata": {},
   "outputs": [
    {
     "name": "stdout",
     "output_type": "stream",
     "text": [
      "lst\t np\t \n"
     ]
    }
   ],
   "source": [
    "who"
   ]
  },
  {
   "cell_type": "markdown",
   "metadata": {},
   "source": [
    "### Let's use [timeit](https://docs.python.org/3/library/timeit.html)"
   ]
  },
  {
   "cell_type": "code",
   "execution_count": 7,
   "metadata": {
    "collapsed": true
   },
   "outputs": [],
   "source": [
    "# import the module\n",
    "import timeit"
   ]
  },
  {
   "cell_type": "code",
   "execution_count": 9,
   "metadata": {},
   "outputs": [
    {
     "name": "stdout",
     "output_type": "stream",
     "text": [
      "Version 1 takes 9.496 seconds for 10000 executions.\n"
     ]
    }
   ],
   "source": [
    "# Version 1\n",
    "s = \"\"\"\n",
    "absolute_values = []\n",
    "for elem in lst:\n",
    "    absolute_values.append(abs(elem))\n",
    "\"\"\"\n",
    "num_times = 10000\n",
    "time_v1 = timeit.timeit(stmt=s, globals=globals(), number=num_times) # globals to access lst, num_times to execute\n",
    "print(\"Version 1 takes {0:0.3f} seconds for {1} executions.\".format(time_v1, num_times))"
   ]
  },
  {
   "cell_type": "code",
   "execution_count": 5,
   "metadata": {},
   "outputs": [
    {
     "name": "stdout",
     "output_type": "stream",
     "text": [
      "Version 2 takes 6.185 seconds for 10000 executions.\n"
     ]
    }
   ],
   "source": [
    "# Version 2\n",
    "s = \"\"\"\n",
    "absolute_values = [abs(elem) for elem in lst]\n",
    "\"\"\"\n",
    "num_times = 10000\n",
    "time_v2 = timeit.timeit(stmt=s, globals=globals(), number=num_times) # globals to access lst, num_times to execute\n",
    "print(\"Version 2 takes {0:0.3f} seconds for {1} executions.\".format(time_v2, num_times))"
   ]
  },
  {
   "cell_type": "code",
   "execution_count": 6,
   "metadata": {},
   "outputs": [
    {
     "name": "stdout",
     "output_type": "stream",
     "text": [
      "Version 3 takes 3.368 seconds for 10000 executions.\n"
     ]
    }
   ],
   "source": [
    "# Version 3\n",
    "s = \"\"\"\n",
    "absolute_values = list(map(abs, lst))\n",
    "\"\"\"\n",
    "num_times = 10000\n",
    "time_v3 = timeit.timeit(stmt=s, globals=globals(), number=num_times) # globals to access lst, num_times to execute\n",
    "print(\"Version 3 takes {0:0.3f} seconds for {1} executions.\".format(time_v3, num_times))"
   ]
  },
  {
   "cell_type": "markdown",
   "metadata": {},
   "source": [
    "### You can also use timeit to time functions.\n",
    "Say you'd like to know which function below works faster:\n",
    "```python\n",
    "def min_and_max_f1(lst):\n",
    "    '''\n",
    "    INPUT: list\n",
    "    OUTPUT: tuple of two ints/floats\n",
    "\n",
    "    Given a list of ints and/or floats, return a 2-tuple containing the values\n",
    "    of the items with the smallest and largest absolute values.\n",
    "\n",
    "    In the case of an empty list, return None.\n",
    "    '''\n",
    "    if lst:\n",
    "        abs_lst = [abs(elem) for elem in lst] \n",
    "        i_min, i_max = abs_lst.index(min(abs_lst)), abs_lst.index(max(abs_lst))\n",
    "        return (lst[i_min], lst[i_max]) \n",
    "    return None\n",
    "```\n",
    "or\n",
    "```python\n",
    "def min_and_max_f2(lst):\n",
    "    '''\n",
    "    INPUT: list\n",
    "    OUTPUT: tuple of two ints/floats\n",
    "\n",
    "    Given a list of ints and/or floats, return a 2-tuple containing the values\n",
    "    of the items with the smallest and largest absolute values.\n",
    "\n",
    "    In the case of an empty list, return None.\n",
    "    '''\n",
    "    if lst:\n",
    "        abs_lst = map(abs, lst) \n",
    "        i_min, i_max = abs_lst.index(min(abs_lst)), abs_lst.index(max(abs_lst))\n",
    "        return (lst[i_min], lst[i_max]) \n",
    "    return None\n",
    "```\n"
   ]
  },
  {
   "cell_type": "code",
   "execution_count": 10,
   "metadata": {},
   "outputs": [
    {
     "name": "stdout",
     "output_type": "stream",
     "text": [
      "Function 1 takes 10.983 seconds for 10000 executions.\n"
     ]
    }
   ],
   "source": [
    "# Version (function) 1\n",
    "def min_and_max_f1(lst):\n",
    "    '''\n",
    "    INPUT: list\n",
    "    OUTPUT: tuple of two ints/floats\n",
    "\n",
    "    Given a list of ints and/or floats, return a 2-tuple containing the values\n",
    "    of the items with the smallest and largest absolute values.\n",
    "\n",
    "    In the case of an empty list, return None.\n",
    "    '''\n",
    "    if lst:\n",
    "        abs_lst = [abs(elem) for elem in lst] \n",
    "        i_min, i_max = abs_lst.index(min(abs_lst)), abs_lst.index(max(abs_lst))\n",
    "        return (lst[i_min], lst[i_max]) \n",
    "    return None\n",
    "\n",
    "num_times = 10000\n",
    "time_v1 = timeit.timeit('min_and_max_f1(lst)', globals=globals(), number=num_times) \n",
    "print(\"Function 1 takes {0:0.3f} seconds for {1} executions.\".format(time_v1, num_times))"
   ]
  },
  {
   "cell_type": "code",
   "execution_count": 11,
   "metadata": {},
   "outputs": [
    {
     "name": "stdout",
     "output_type": "stream",
     "text": [
      "Function 2 takes 7.735 seconds for 10000 executions.\n"
     ]
    }
   ],
   "source": [
    "# Version (function) 2\n",
    "def min_and_max_f2(lst):\n",
    "    '''\n",
    "    INPUT: list\n",
    "    OUTPUT: tuple of two ints/floats\n",
    "\n",
    "    Given a list of ints and/or floats, return a 2-tuple containing the values\n",
    "    of the items with the smallest and largest absolute values.\n",
    "\n",
    "    In the case of an empty list, return None.\n",
    "    '''\n",
    "    if lst:\n",
    "        abs_lst = list(map(abs, lst))\n",
    "        i_min, i_max = abs_lst.index(min(abs_lst)), abs_lst.index(max(abs_lst))\n",
    "        return (lst[i_min], lst[i_max]) \n",
    "    return None\n",
    "\n",
    "num_times = 10000\n",
    "time_v2 = timeit.timeit('min_and_max_f2(lst)', globals=globals(), number=num_times) \n",
    "print(\"Function 2 takes {0:0.3f} seconds for {1} executions.\".format(time_v2, num_times))"
   ]
  },
  {
   "cell_type": "code",
   "execution_count": null,
   "metadata": {
    "collapsed": true
   },
   "outputs": [],
   "source": []
  }
 ],
 "metadata": {
  "kernelspec": {
   "display_name": "Python 3",
   "language": "python",
   "name": "python3"
  },
  "language_info": {
   "codemirror_mode": {
    "name": "ipython",
    "version": 3
   },
   "file_extension": ".py",
   "mimetype": "text/x-python",
   "name": "python",
   "nbconvert_exporter": "python",
   "pygments_lexer": "ipython3",
   "version": "3.6.1"
  }
 },
 "nbformat": 4,
 "nbformat_minor": 2
}
