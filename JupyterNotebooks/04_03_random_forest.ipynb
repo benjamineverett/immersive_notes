{
 "cells": [
  {
   "cell_type": "markdown",
   "metadata": {},
   "source": [
    "# Random-Forests in Scikit-Learn\n",
    "\n",
    "For this example we will be using the [diamonds dataset](http://docs.ggplot2.org/0.9.3.1/diamonds.html) to demonstrate using [Scikit-Learn's Random Forest Regressor](http://scikit-learn.org/stable/modules/generated/sklearn.ensemble.RandomForestRegressor.html) (dealing with classification is similar)."
   ]
  },
  {
   "cell_type": "code",
   "execution_count": 5,
   "metadata": {
    "collapsed": true
   },
   "outputs": [],
   "source": [
    "# First let's import the packages we'll need\n",
    "%matplotlib inline\n",
    "import pandas as pd\n",
    "import numpy as np\n",
    "import matplotlib.pyplot as plt\n",
    "from sklearn.ensemble import RandomForestRegressor\n",
    "from sklearn.metrics import mean_squared_error\n",
    "\n",
    "# Set style options\n",
    "plt.style.use('ggplot')"
   ]
  },
  {
   "cell_type": "code",
   "execution_count": 6,
   "metadata": {},
   "outputs": [],
   "source": [
    "# Read in diamonds dataset\n",
    "# See http://docs.ggplot2.org/0.9.3.1/diamonds.html for more info\n",
    "df = pd.read_csv('./data/diamonds.csv')\n",
    "\n",
    "# Get dummies of some categorical columns\n",
    "df = pd.get_dummies(df, columns=['cut', 'color', 'clarity'], drop_first=True)"
   ]
  },
  {
   "cell_type": "code",
   "execution_count": 7,
   "metadata": {},
   "outputs": [
    {
     "name": "stdout",
     "output_type": "stream",
     "text": [
      "<class 'pandas.core.frame.DataFrame'>\n",
      "RangeIndex: 53940 entries, 0 to 53939\n",
      "Data columns (total 24 columns):\n",
      "carat            53940 non-null float64\n",
      "depth            53940 non-null float64\n",
      "table            53940 non-null float64\n",
      "price            53940 non-null int64\n",
      "x                53940 non-null float64\n",
      "y                53940 non-null float64\n",
      "z                53940 non-null float64\n",
      "cut_Good         53940 non-null uint8\n",
      "cut_Ideal        53940 non-null uint8\n",
      "cut_Premium      53940 non-null uint8\n",
      "cut_Very Good    53940 non-null uint8\n",
      "color_E          53940 non-null uint8\n",
      "color_F          53940 non-null uint8\n",
      "color_G          53940 non-null uint8\n",
      "color_H          53940 non-null uint8\n",
      "color_I          53940 non-null uint8\n",
      "color_J          53940 non-null uint8\n",
      "clarity_IF       53940 non-null uint8\n",
      "clarity_SI1      53940 non-null uint8\n",
      "clarity_SI2      53940 non-null uint8\n",
      "clarity_VS1      53940 non-null uint8\n",
      "clarity_VS2      53940 non-null uint8\n",
      "clarity_VVS1     53940 non-null uint8\n",
      "clarity_VVS2     53940 non-null uint8\n",
      "dtypes: float64(6), int64(1), uint8(17)\n",
      "memory usage: 3.8 MB\n"
     ]
    }
   ],
   "source": [
    "df.info()"
   ]
  },
  {
   "cell_type": "code",
   "execution_count": 8,
   "metadata": {},
   "outputs": [
    {
     "data": {
      "text/html": [
       "<div>\n",
       "<style>\n",
       "    .dataframe thead tr:only-child th {\n",
       "        text-align: right;\n",
       "    }\n",
       "\n",
       "    .dataframe thead th {\n",
       "        text-align: left;\n",
       "    }\n",
       "\n",
       "    .dataframe tbody tr th {\n",
       "        vertical-align: top;\n",
       "    }\n",
       "</style>\n",
       "<table border=\"1\" class=\"dataframe\">\n",
       "  <thead>\n",
       "    <tr style=\"text-align: right;\">\n",
       "      <th></th>\n",
       "      <th>carat</th>\n",
       "      <th>depth</th>\n",
       "      <th>table</th>\n",
       "      <th>price</th>\n",
       "      <th>x</th>\n",
       "      <th>y</th>\n",
       "      <th>z</th>\n",
       "      <th>cut_Good</th>\n",
       "      <th>cut_Ideal</th>\n",
       "      <th>cut_Premium</th>\n",
       "      <th>...</th>\n",
       "      <th>color_H</th>\n",
       "      <th>color_I</th>\n",
       "      <th>color_J</th>\n",
       "      <th>clarity_IF</th>\n",
       "      <th>clarity_SI1</th>\n",
       "      <th>clarity_SI2</th>\n",
       "      <th>clarity_VS1</th>\n",
       "      <th>clarity_VS2</th>\n",
       "      <th>clarity_VVS1</th>\n",
       "      <th>clarity_VVS2</th>\n",
       "    </tr>\n",
       "  </thead>\n",
       "  <tbody>\n",
       "    <tr>\n",
       "      <th>count</th>\n",
       "      <td>53940.000000</td>\n",
       "      <td>53940.000000</td>\n",
       "      <td>53940.000000</td>\n",
       "      <td>53940.000000</td>\n",
       "      <td>53940.000000</td>\n",
       "      <td>53940.000000</td>\n",
       "      <td>53940.000000</td>\n",
       "      <td>53940.000000</td>\n",
       "      <td>53940.000000</td>\n",
       "      <td>53940.000000</td>\n",
       "      <td>...</td>\n",
       "      <td>53940.000000</td>\n",
       "      <td>53940.000000</td>\n",
       "      <td>53940.000000</td>\n",
       "      <td>53940.000000</td>\n",
       "      <td>53940.000000</td>\n",
       "      <td>53940.000000</td>\n",
       "      <td>53940.000000</td>\n",
       "      <td>53940.000000</td>\n",
       "      <td>53940.000000</td>\n",
       "      <td>53940.000000</td>\n",
       "    </tr>\n",
       "    <tr>\n",
       "      <th>mean</th>\n",
       "      <td>0.797940</td>\n",
       "      <td>61.749405</td>\n",
       "      <td>57.457184</td>\n",
       "      <td>3932.799722</td>\n",
       "      <td>5.731157</td>\n",
       "      <td>5.734526</td>\n",
       "      <td>3.538734</td>\n",
       "      <td>0.090953</td>\n",
       "      <td>0.399537</td>\n",
       "      <td>0.255673</td>\n",
       "      <td>...</td>\n",
       "      <td>0.153949</td>\n",
       "      <td>0.100519</td>\n",
       "      <td>0.052058</td>\n",
       "      <td>0.033185</td>\n",
       "      <td>0.242214</td>\n",
       "      <td>0.170449</td>\n",
       "      <td>0.151483</td>\n",
       "      <td>0.227253</td>\n",
       "      <td>0.067760</td>\n",
       "      <td>0.093919</td>\n",
       "    </tr>\n",
       "    <tr>\n",
       "      <th>std</th>\n",
       "      <td>0.474011</td>\n",
       "      <td>1.432621</td>\n",
       "      <td>2.234491</td>\n",
       "      <td>3989.439738</td>\n",
       "      <td>1.121761</td>\n",
       "      <td>1.142135</td>\n",
       "      <td>0.705699</td>\n",
       "      <td>0.287545</td>\n",
       "      <td>0.489808</td>\n",
       "      <td>0.436243</td>\n",
       "      <td>...</td>\n",
       "      <td>0.360903</td>\n",
       "      <td>0.300694</td>\n",
       "      <td>0.222146</td>\n",
       "      <td>0.179121</td>\n",
       "      <td>0.428427</td>\n",
       "      <td>0.376030</td>\n",
       "      <td>0.358522</td>\n",
       "      <td>0.419061</td>\n",
       "      <td>0.251337</td>\n",
       "      <td>0.291719</td>\n",
       "    </tr>\n",
       "    <tr>\n",
       "      <th>min</th>\n",
       "      <td>0.200000</td>\n",
       "      <td>43.000000</td>\n",
       "      <td>43.000000</td>\n",
       "      <td>326.000000</td>\n",
       "      <td>0.000000</td>\n",
       "      <td>0.000000</td>\n",
       "      <td>0.000000</td>\n",
       "      <td>0.000000</td>\n",
       "      <td>0.000000</td>\n",
       "      <td>0.000000</td>\n",
       "      <td>...</td>\n",
       "      <td>0.000000</td>\n",
       "      <td>0.000000</td>\n",
       "      <td>0.000000</td>\n",
       "      <td>0.000000</td>\n",
       "      <td>0.000000</td>\n",
       "      <td>0.000000</td>\n",
       "      <td>0.000000</td>\n",
       "      <td>0.000000</td>\n",
       "      <td>0.000000</td>\n",
       "      <td>0.000000</td>\n",
       "    </tr>\n",
       "    <tr>\n",
       "      <th>25%</th>\n",
       "      <td>0.400000</td>\n",
       "      <td>61.000000</td>\n",
       "      <td>56.000000</td>\n",
       "      <td>950.000000</td>\n",
       "      <td>4.710000</td>\n",
       "      <td>4.720000</td>\n",
       "      <td>2.910000</td>\n",
       "      <td>0.000000</td>\n",
       "      <td>0.000000</td>\n",
       "      <td>0.000000</td>\n",
       "      <td>...</td>\n",
       "      <td>0.000000</td>\n",
       "      <td>0.000000</td>\n",
       "      <td>0.000000</td>\n",
       "      <td>0.000000</td>\n",
       "      <td>0.000000</td>\n",
       "      <td>0.000000</td>\n",
       "      <td>0.000000</td>\n",
       "      <td>0.000000</td>\n",
       "      <td>0.000000</td>\n",
       "      <td>0.000000</td>\n",
       "    </tr>\n",
       "    <tr>\n",
       "      <th>50%</th>\n",
       "      <td>0.700000</td>\n",
       "      <td>61.800000</td>\n",
       "      <td>57.000000</td>\n",
       "      <td>2401.000000</td>\n",
       "      <td>5.700000</td>\n",
       "      <td>5.710000</td>\n",
       "      <td>3.530000</td>\n",
       "      <td>0.000000</td>\n",
       "      <td>0.000000</td>\n",
       "      <td>0.000000</td>\n",
       "      <td>...</td>\n",
       "      <td>0.000000</td>\n",
       "      <td>0.000000</td>\n",
       "      <td>0.000000</td>\n",
       "      <td>0.000000</td>\n",
       "      <td>0.000000</td>\n",
       "      <td>0.000000</td>\n",
       "      <td>0.000000</td>\n",
       "      <td>0.000000</td>\n",
       "      <td>0.000000</td>\n",
       "      <td>0.000000</td>\n",
       "    </tr>\n",
       "    <tr>\n",
       "      <th>75%</th>\n",
       "      <td>1.040000</td>\n",
       "      <td>62.500000</td>\n",
       "      <td>59.000000</td>\n",
       "      <td>5324.250000</td>\n",
       "      <td>6.540000</td>\n",
       "      <td>6.540000</td>\n",
       "      <td>4.040000</td>\n",
       "      <td>0.000000</td>\n",
       "      <td>1.000000</td>\n",
       "      <td>1.000000</td>\n",
       "      <td>...</td>\n",
       "      <td>0.000000</td>\n",
       "      <td>0.000000</td>\n",
       "      <td>0.000000</td>\n",
       "      <td>0.000000</td>\n",
       "      <td>0.000000</td>\n",
       "      <td>0.000000</td>\n",
       "      <td>0.000000</td>\n",
       "      <td>0.000000</td>\n",
       "      <td>0.000000</td>\n",
       "      <td>0.000000</td>\n",
       "    </tr>\n",
       "    <tr>\n",
       "      <th>max</th>\n",
       "      <td>5.010000</td>\n",
       "      <td>79.000000</td>\n",
       "      <td>95.000000</td>\n",
       "      <td>18823.000000</td>\n",
       "      <td>10.740000</td>\n",
       "      <td>58.900000</td>\n",
       "      <td>31.800000</td>\n",
       "      <td>1.000000</td>\n",
       "      <td>1.000000</td>\n",
       "      <td>1.000000</td>\n",
       "      <td>...</td>\n",
       "      <td>1.000000</td>\n",
       "      <td>1.000000</td>\n",
       "      <td>1.000000</td>\n",
       "      <td>1.000000</td>\n",
       "      <td>1.000000</td>\n",
       "      <td>1.000000</td>\n",
       "      <td>1.000000</td>\n",
       "      <td>1.000000</td>\n",
       "      <td>1.000000</td>\n",
       "      <td>1.000000</td>\n",
       "    </tr>\n",
       "  </tbody>\n",
       "</table>\n",
       "<p>8 rows × 24 columns</p>\n",
       "</div>"
      ],
      "text/plain": [
       "              carat         depth         table         price             x  \\\n",
       "count  53940.000000  53940.000000  53940.000000  53940.000000  53940.000000   \n",
       "mean       0.797940     61.749405     57.457184   3932.799722      5.731157   \n",
       "std        0.474011      1.432621      2.234491   3989.439738      1.121761   \n",
       "min        0.200000     43.000000     43.000000    326.000000      0.000000   \n",
       "25%        0.400000     61.000000     56.000000    950.000000      4.710000   \n",
       "50%        0.700000     61.800000     57.000000   2401.000000      5.700000   \n",
       "75%        1.040000     62.500000     59.000000   5324.250000      6.540000   \n",
       "max        5.010000     79.000000     95.000000  18823.000000     10.740000   \n",
       "\n",
       "                  y             z      cut_Good     cut_Ideal   cut_Premium  \\\n",
       "count  53940.000000  53940.000000  53940.000000  53940.000000  53940.000000   \n",
       "mean       5.734526      3.538734      0.090953      0.399537      0.255673   \n",
       "std        1.142135      0.705699      0.287545      0.489808      0.436243   \n",
       "min        0.000000      0.000000      0.000000      0.000000      0.000000   \n",
       "25%        4.720000      2.910000      0.000000      0.000000      0.000000   \n",
       "50%        5.710000      3.530000      0.000000      0.000000      0.000000   \n",
       "75%        6.540000      4.040000      0.000000      1.000000      1.000000   \n",
       "max       58.900000     31.800000      1.000000      1.000000      1.000000   \n",
       "\n",
       "           ...            color_H       color_I       color_J    clarity_IF  \\\n",
       "count      ...       53940.000000  53940.000000  53940.000000  53940.000000   \n",
       "mean       ...           0.153949      0.100519      0.052058      0.033185   \n",
       "std        ...           0.360903      0.300694      0.222146      0.179121   \n",
       "min        ...           0.000000      0.000000      0.000000      0.000000   \n",
       "25%        ...           0.000000      0.000000      0.000000      0.000000   \n",
       "50%        ...           0.000000      0.000000      0.000000      0.000000   \n",
       "75%        ...           0.000000      0.000000      0.000000      0.000000   \n",
       "max        ...           1.000000      1.000000      1.000000      1.000000   \n",
       "\n",
       "        clarity_SI1   clarity_SI2   clarity_VS1   clarity_VS2  clarity_VVS1  \\\n",
       "count  53940.000000  53940.000000  53940.000000  53940.000000  53940.000000   \n",
       "mean       0.242214      0.170449      0.151483      0.227253      0.067760   \n",
       "std        0.428427      0.376030      0.358522      0.419061      0.251337   \n",
       "min        0.000000      0.000000      0.000000      0.000000      0.000000   \n",
       "25%        0.000000      0.000000      0.000000      0.000000      0.000000   \n",
       "50%        0.000000      0.000000      0.000000      0.000000      0.000000   \n",
       "75%        0.000000      0.000000      0.000000      0.000000      0.000000   \n",
       "max        1.000000      1.000000      1.000000      1.000000      1.000000   \n",
       "\n",
       "       clarity_VVS2  \n",
       "count  53940.000000  \n",
       "mean       0.093919  \n",
       "std        0.291719  \n",
       "min        0.000000  \n",
       "25%        0.000000  \n",
       "50%        0.000000  \n",
       "75%        0.000000  \n",
       "max        1.000000  \n",
       "\n",
       "[8 rows x 24 columns]"
      ]
     },
     "execution_count": 8,
     "metadata": {},
     "output_type": "execute_result"
    }
   ],
   "source": [
    "df.describe()"
   ]
  },
  {
   "cell_type": "markdown",
   "metadata": {},
   "source": [
    "## Feature Importances\n",
    "\n",
    "Let's first look at a graph using the built in Scikit-Learn feature importance attribute.  For convience, the function `feature_importance` will create our feature importance plot for us..."
   ]
  },
  {
   "cell_type": "code",
   "execution_count": 9,
   "metadata": {
    "collapsed": true
   },
   "outputs": [],
   "source": [
    "def feature_importance(rf, col_labels=None, importances=None, err=True):\n",
    "    if isinstance(importances, type(None)):\n",
    "        importances = rf.feature_importances_\n",
    "        std = np.std([tree.feature_importances_ for tree in rf.estimators_], axis=0)\n",
    "    idxs = np.argsort(importances)[::-1]\n",
    "\n",
    "    if isinstance(col_labels, type(None)):\n",
    "        col_labels = {}\n",
    "    else:\n",
    "        col_labels = {idx: label for idx, label in enumerate(col_labels)}\n",
    "\n",
    "    # Print the ranking\n",
    "    print('Feature ranking:')\n",
    "    for feat in range(importances.shape[0]):\n",
    "        print(\"{}. {} ({})\".format(feat+1, col_labels.get(idxs[feat], idxs[feat]), importances[idxs[feat]]))\n",
    "\n",
    "    plt.figure(figsize=(10, 8))\n",
    "    plt.title('Feature Importances')\n",
    "    if err:\n",
    "        plt.bar(range(importances.shape[0]), importances[idxs], yerr=std[idxs], align='center')\n",
    "    else:\n",
    "        plt.bar(range(importances.shape[0]), importances[idxs], align='center')\n",
    "    xticks = [col_labels.get(idx, idx) for idx in idxs]\n",
    "    plt.xticks(range(importances.shape[0]), xticks, rotation=-45)\n",
    "    plt.xlim([-1, importances.shape[0]])\n",
    "    plt.tight_layout()"
   ]
  },
  {
   "cell_type": "code",
   "execution_count": 10,
   "metadata": {},
   "outputs": [
    {
     "name": "stdout",
     "output_type": "stream",
     "text": [
      "Feature ranking:\n",
      "1. carat (0.6114369008659883)\n",
      "2. y (0.27662716869430454)\n",
      "3. clarity_SI2 (0.01936452840314528)\n",
      "4. clarity_SI1 (0.013947969832254423)\n",
      "5. color_J (0.011259833041253385)\n",
      "6. color_I (0.008518123078504101)\n",
      "7. color_H (0.007173936371739091)\n",
      "8. z (0.006056216558612747)\n",
      "9. depth (0.005988280124886571)\n",
      "10. x (0.005524638660838318)\n",
      "11. clarity_VS2 (0.00528817008533418)\n",
      "12. clarity_VVS2 (0.005009929370623866)\n",
      "13. clarity_IF (0.004842013108824544)\n",
      "14. clarity_VVS1 (0.004595211512948749)\n",
      "15. clarity_VS1 (0.003999257979813352)\n",
      "16. color_G (0.0031697002808716646)\n",
      "17. table (0.0029596654174043357)\n",
      "18. color_F (0.0011267730566533315)\n",
      "19. cut_Ideal (0.001022337467189138)\n",
      "20. color_E (0.0009557868631097471)\n",
      "21. cut_Premium (0.0004130334129211374)\n",
      "22. cut_Good (0.00040014748652642587)\n",
      "23. cut_Very Good (0.00032037832625284794)\n"
     ]
    },
    {
     "data": {
      "image/png": "[encoded data removed]",
      "text/plain": [
       "<matplotlib.figure.Figure at 0x10ff094e0>"
      ]
     },
     "metadata": {},
     "output_type": "display_data"
    }
   ],
   "source": [
    "y = df.pop('price').values\n",
    "X = df.values\n",
    "\n",
    "rf = RandomForestRegressor(n_jobs = -1,n_estimators=100)\n",
    "rf.fit(X, y)\n",
    "\n",
    "feature_importance(rf, df.columns.tolist())"
   ]
  },
  {
   "cell_type": "markdown",
   "metadata": {},
   "source": [
    "### Leave One Out Feature Importance\n",
    "\n",
    "Let's compare this to a leave one out feature importance whereby we iteratively drop each feature from our model and compare the change in MSE from before and after that feature was removed.  If the feature isn't important the resulting change in MSE should be small."
   ]
  },
  {
   "cell_type": "code",
   "execution_count": 11,
   "metadata": {
    "collapsed": true
   },
   "outputs": [],
   "source": [
    "def leave_one_out_feature_import(X, y, model, criterion=mean_squared_error, norm=True):\n",
    "    ''' Drop each feature out and observe the effect on the specified criterion\n",
    "    INPUT:\n",
    "        X: numpy array\n",
    "            Numpy array holding all features\n",
    "        y: numpy array\n",
    "            Numpy array of targets\n",
    "        model: Model implementing .fit() and .predict()\n",
    "        criterion: function evaluating a particular metric\n",
    "            This function should be called like so: criterion(y_true, y_pred)\n",
    "    OUTPUT:\n",
    "        importances: numpy array\n",
    "    '''\n",
    "    model.fit(X, y)\n",
    "    base = criterion(y, model.predict(X))\n",
    "    importances = []\n",
    "\n",
    "    for feat in range(X.shape[1]):\n",
    "        X_sub = X[:, np.array([col != feat for col in range(X.shape[1])])]\n",
    "        model.fit(X_sub, y)\n",
    "        importances.append(abs(base - criterion(y, model.predict(X_sub))))\n",
    "\n",
    "    importances = np.array(importances)\n",
    "    if norm:\n",
    "        importances = importances / np.sum(importances)\n",
    "    return importances"
   ]
  },
  {
   "cell_type": "code",
   "execution_count": 12,
   "metadata": {},
   "outputs": [
    {
     "name": "stdout",
     "output_type": "stream",
     "text": [
      "Feature ranking:\n",
      "1. color_J (0.14506281699302104)\n",
      "2. color_I (0.11318793530641877)\n",
      "3. clarity_VS1 (0.09603022544093659)\n",
      "4. clarity_VVS2 (0.09406604994816667)\n",
      "5. clarity_VVS1 (0.09228631180584763)\n",
      "6. clarity_VS2 (0.09197598446200163)\n",
      "7. color_H (0.082517732548507)\n",
      "8. clarity_IF (0.08122381469293158)\n",
      "9. clarity_SI1 (0.05676289269169885)\n",
      "10. color_G (0.05171556511607858)\n",
      "11. color_F (0.02198699857834047)\n",
      "12. carat (0.01699065816337652)\n",
      "13. clarity_SI2 (0.013949052431020063)\n",
      "14. depth (0.009223982309332095)\n",
      "15. color_E (0.008932443453456403)\n",
      "16. table (0.007192626544459509)\n",
      "17. z (0.003470062375085283)\n",
      "18. cut_Premium (0.003130571293579277)\n",
      "19. cut_Good (0.0030316014459136195)\n",
      "20. cut_Ideal (0.002592542395945372)\n",
      "21. x (0.0024209714509623856)\n",
      "22. y (0.0017791519348114358)\n",
      "23. cut_Very Good (0.0004700086181091215)\n"
     ]
    },
    {
     "data": {
      "image/png": "[encoded data removed]",
      "text/plain": [
       "<matplotlib.figure.Figure at 0x111122e10>"
      ]
     },
     "metadata": {},
     "output_type": "display_data"
    }
   ],
   "source": [
    "loo_importance = leave_one_out_feature_import(X, y, rf)\n",
    "feature_importance(rf, df.columns.tolist(), importances=loo_importance, err=False)"
   ]
  },
  {
   "cell_type": "markdown",
   "metadata": {},
   "source": [
    "Why are these estimations of importance so different?  One possible explaination is that features that were deemed to be important in our initial feature importance plot can be represented by other features in our dataset.  For example, `carat` (a measure of weight) can likely be accurately represented by `x`, `y`, `z` (length, width, and depth respectively).\n",
    "\n",
    "This also points out a crucial nuance to Scikit-Learn's measure of feature importance: continuous features often are deemed more important than categorical ones.  This is due to the fact that a features importance are calculated by measuring the total decrease in node impurity (weighted by the probability of reaching that node) averaged over all trees of the ensemble.  A boolean feature can only be split on once in a given tree whereas a continous feature can be split on multiple times.\n",
    "\n",
    "Indeed, if you drop both `carat` and `y`, continous features `x` and `z` move up to be the most important features by sklearn's measure."
   ]
  },
  {
   "cell_type": "markdown",
   "metadata": {},
   "source": [
    "### Permuted Feature Importance\n",
    "\n",
    "A similar approach to dropping an entire column is to instead permute that column.  This would give you a sense of how your model would be effected by replacing a feature with random noise.  If the feature truly wasn't important, permuting it wouldn't effect the resulting MSE.\n",
    "\n",
    "The result is very similar to our previous approach..."
   ]
  },
  {
   "cell_type": "code",
   "execution_count": 13,
   "metadata": {
    "collapsed": true
   },
   "outputs": [],
   "source": [
    "def permuted_feature_import(X, y, model, criterion=mean_squared_error, norm=True):\n",
    "    ''' Drop each feature out and observe the effect on the specified criterion\n",
    "    INPUT:\n",
    "        X: numpy array\n",
    "            Numpy array holding all features\n",
    "        y: numpy array\n",
    "            Numpy array of targets\n",
    "        model: Model implementing .fit() and .predict()\n",
    "        criterion: function evaluating a particular metric\n",
    "            This function should be called like so: criterion(y_true, y_pred)\n",
    "    OUTPUT:\n",
    "        importances: numpy array\n",
    "    '''\n",
    "    model.fit(X, y)\n",
    "    base = criterion(y, model.predict(X))\n",
    "    importances = []\n",
    "\n",
    "    for feat in range(X.shape[1]):\n",
    "        Xc = np.copy(X)\n",
    "        np.random.shuffle(Xc[:, feat])\n",
    "        model.fit(Xc, y)\n",
    "        importances.append(abs(base - criterion(y, model.predict(Xc))))\n",
    "\n",
    "    importances = np.array(importances)\n",
    "    if norm:\n",
    "        importances = importances / np.sum(importances)\n",
    "    return importances"
   ]
  },
  {
   "cell_type": "code",
   "execution_count": 14,
   "metadata": {},
   "outputs": [
    {
     "name": "stdout",
     "output_type": "stream",
     "text": [
      "Feature ranking:\n",
      "1. color_J (0.14667702158793985)\n",
      "2. color_I (0.1148013619180414)\n",
      "3. clarity_VS2 (0.09228436417674758)\n",
      "4. clarity_VVS2 (0.09111448107589842)\n",
      "5. clarity_VS1 (0.09067200956425037)\n",
      "6. clarity_VVS1 (0.08574767672715515)\n",
      "7. clarity_IF (0.08024065015010436)\n",
      "8. color_H (0.08007045007538048)\n",
      "9. clarity_SI1 (0.050408749690382615)\n",
      "10. color_G (0.04924443383763461)\n",
      "11. carat (0.027955609526066138)\n",
      "12. color_F (0.017032912484186275)\n",
      "13. clarity_SI2 (0.015418122926878011)\n",
      "14. table (0.012052181160335214)\n",
      "15. z (0.011429324962074452)\n",
      "16. y (0.010939038682474448)\n",
      "17. depth (0.007974275082816147)\n",
      "18. x (0.0065994910686667805)\n",
      "19. color_E (0.005052822909043428)\n",
      "20. cut_Ideal (0.003250251187548262)\n",
      "21. cut_Very Good (0.0005339435840060885)\n",
      "22. cut_Good (0.000311905860124079)\n",
      "23. cut_Premium (0.000188921762245996)\n"
     ]
    },
    {
     "data": {
      "image/png": "[encoded data removed]",
      "text/plain": [
       "<matplotlib.figure.Figure at 0x10ff665f8>"
      ]
     },
     "metadata": {},
     "output_type": "display_data"
    }
   ],
   "source": [
    "permute_importance = permuted_feature_import(X, y, rf)\n",
    "feature_importance(rf, df.columns.tolist(), importances=permute_importance, err=False)"
   ]
  },
  {
   "cell_type": "markdown",
   "metadata": {},
   "source": [
    "### Interpreting our Forest\n",
    "\n",
    "We can use the package `treeinterpreter` to get a sense for how each feature is changing our prediction for a given data point..."
   ]
  },
  {
   "cell_type": "code",
   "execution_count": null,
   "metadata": {
    "collapsed": true
   },
   "outputs": [],
   "source": [
    "# pip install tree interpreter\n",
    "from treeinterpreter import treeinterpreter as ti\n",
    "\n",
    "rf.fit(X, y)\n",
    "\n",
    "# Get feature contributions\n",
    "prediction, bias, contributions = ti.predict(rf, X)\n",
    "df_contrib = pd.DataFrame(contributions, columns=df.columns.tolist())\n",
    "df_contrib['bias'] = bias\n",
    "df_contrib['prediction'] = prediction\n",
    "\n",
    "# First plot a scatter of caret vs. y\n",
    "df.plot('carat', 'y', kind='scatter')"
   ]
  },
  {
   "cell_type": "code",
   "execution_count": null,
   "metadata": {
    "collapsed": true
   },
   "outputs": [],
   "source": [
    "# Plot feature contributions for top two variables\n",
    "df_contrib.plot('carat', 'y', kind='scatter')"
   ]
  },
  {
   "cell_type": "markdown",
   "metadata": {},
   "source": [
    "## Partial Dependency Plots"
   ]
  },
  {
   "cell_type": "code",
   "execution_count": null,
   "metadata": {
    "collapsed": true
   },
   "outputs": [],
   "source": [
    "from sklearn.ensemble.partial_dependence import plot_partial_dependence\n",
    "from sklearn.ensemble.partial_dependence import partial_dependence"
   ]
  }
 ],
 "metadata": {
  "anaconda-cloud": {},
  "kernelspec": {
   "display_name": "Python 3",
   "language": "python",
   "name": "python3"
  },
  "language_info": {
   "codemirror_mode": {
    "name": "ipython",
    "version": 3
   },
   "file_extension": ".py",
   "mimetype": "text/x-python",
   "name": "python",
   "nbconvert_exporter": "python",
   "pygments_lexer": "ipython3",
   "version": "3.6.1"
  }
 },
 "nbformat": 4,
 "nbformat_minor": 1
}
