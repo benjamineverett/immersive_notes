{
 "cells": [
  {
   "cell_type": "code",
   "execution_count": null,
   "metadata": {
    "collapsed": true
   },
   "outputs": [],
   "source": [
    "import matplotlib.pyplot as plt\n",
    "import seaborn\n",
    "import numpy as np\n",
    "%matplotlib inline"
   ]
  },
  {
   "cell_type": "code",
   "execution_count": null,
   "metadata": {
    "collapsed": true
   },
   "outputs": [],
   "source": [
    "import matplotlib as mpl\n",
    "mpl.rcParams.update({\n",
    "    'font.size'           : 20.0,\n",
    "    'axes.titlesize'      : 'large',\n",
    "    'axes.labelsize'      : 'medium',\n",
    "    'xtick.labelsize'     : 'medium',\n",
    "    'ytick.labelsize'     : 'medium',\n",
    "    'legend.fontsize'     : 'large',\n",
    "})"
   ]
  },
  {
   "cell_type": "code",
   "execution_count": null,
   "metadata": {
    "collapsed": false
   },
   "outputs": [],
   "source": [
    "from math import factorial, exp\n",
    "def poisson_func(x, lmbda):\n",
    "    return  ((lmbda**x)*exp(-lmbda))/factorial(x)"
   ]
  },
  {
   "cell_type": "code",
   "execution_count": null,
   "metadata": {
    "collapsed": true
   },
   "outputs": [],
   "source": [
    "visits = [6, 4, 7, 4, 9, 3, 5]"
   ]
  },
  {
   "cell_type": "code",
   "execution_count": null,
   "metadata": {
    "collapsed": false
   },
   "outputs": [],
   "source": [
    "lmbdas = np.linspace(1, 10, 50)  #define 50 lambdas"
   ]
  },
  {
   "cell_type": "code",
   "execution_count": null,
   "metadata": {
    "collapsed": false
   },
   "outputs": [],
   "source": [
    "likelihoods = [np.prod([poisson_func(visit, lmbda) for visit in visits]) \n",
    "               for lmbda in lmbdas]"
   ]
  },
  {
   "cell_type": "code",
   "execution_count": null,
   "metadata": {
    "collapsed": false
   },
   "outputs": [],
   "source": [
    "mx_ind_L = np.argmax(likelihoods) # find the index associated with the max. log likelihood\n",
    "max_L = likelihoods[mx_ind_L]\n",
    "lmbda_max_L = lmbdas[mx_ind_L]\n",
    "print(\"The maximum likelihood is {0:0.2e}\".format(max_L))\n",
    "print(\"The maximum occurs at a lambda of {0:0.2f}\".format(lmbda_max_L))"
   ]
  },
  {
   "cell_type": "code",
   "execution_count": null,
   "metadata": {
    "collapsed": false
   },
   "outputs": [],
   "source": [
    "plt.plot(lmbdas, likelihoods)\n",
    "plt.xlabel('$\\lambda$')\n",
    "plt.ylabel('likelihood')\n",
    "plt.show()"
   ]
  },
  {
   "cell_type": "code",
   "execution_count": null,
   "metadata": {
    "collapsed": true
   },
   "outputs": [],
   "source": [
    "lnL = 38 * np.log(lmbdas) - 7 * lmbdas  # log likelihood array"
   ]
  },
  {
   "cell_type": "code",
   "execution_count": null,
   "metadata": {
    "collapsed": false
   },
   "outputs": [],
   "source": [
    "mx_ind_lnL = np.argmax(lnL) # find the index associated with the max. log likelihood\n",
    "max_lnL = lnL[mx_ind_lnL]\n",
    "lmbda_max_lnL = lmbdas[mx_ind_lnL]\n",
    "print(\"The maximum log likelihood is {0:0.1f}\".format(max_lnL))\n",
    "print(\"The maximum occurs at a lambda of {0:0.2f}\".format(lmbda_max_lnL))"
   ]
  },
  {
   "cell_type": "code",
   "execution_count": null,
   "metadata": {
    "collapsed": false
   },
   "outputs": [],
   "source": [
    "plt.plot(lmbdas, lnL)\n",
    "plt.axhline(max_lnL, c = 'k', linestyle='dashed', linewidth=1)\n",
    "plt.axvline(lmbda_max_lnL, c = 'r', linestyle='dashed', linewidth=2)\n",
    "plt.xlabel('$\\lambda$')\n",
    "plt.ylabel('Log likelihood')\n",
    "plt.show()"
   ]
  },
  {
   "cell_type": "code",
   "execution_count": null,
   "metadata": {
    "collapsed": true
   },
   "outputs": [],
   "source": []
  }
 ],
 "metadata": {
  "anaconda-cloud": {},
  "kernelspec": {
   "display_name": "Python 3",
   "language": "python",
   "name": "python3"
  },
  "language_info": {
   "codemirror_mode": {
    "name": "ipython",
    "version": 3
   },
   "file_extension": ".py",
   "mimetype": "text/x-python",
   "name": "python",
   "nbconvert_exporter": "python",
   "pygments_lexer": "ipython3",
   "version": "3.6.0"
  }
 },
 "nbformat": 4,
 "nbformat_minor": 1
}
