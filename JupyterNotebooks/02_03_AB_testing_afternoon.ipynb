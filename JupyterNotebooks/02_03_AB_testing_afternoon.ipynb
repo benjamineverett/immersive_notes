{
 "cells": [
  {
   "cell_type": "code",
<<<<<<< HEAD
   "execution_count": 55,
=======
   "execution_count": 11,
>>>>>>> 4f98746aa3497c5e490610381aaf5447677d0e1d
   "metadata": {
    "collapsed": true
   },
   "outputs": [],
   "source": [
    "import numpy as np\n",
    "import scipy.stats as scs\n",
    "import matplotlib.pyplot as plt\n",
    "import pandas as pd\n",
    "import seaborn\n",
    "from collections import Counter\n",
    "%matplotlib inline"
   ]
  },
  {
   "cell_type": "code",
<<<<<<< HEAD
   "execution_count": 5,
=======
   "execution_count": 12,
>>>>>>> 4f98746aa3497c5e490610381aaf5447677d0e1d
   "metadata": {
    "collapsed": true
   },
   "outputs": [],
   "source": [
    "# fair dice distribution\n",
    "fair_rolls = np.random.randint(1, 7, size = (120, ))"
   ]
  },
  {
   "cell_type": "code",
<<<<<<< HEAD
   "execution_count": 27,
   "metadata": {},
=======
   "execution_count": 13,
   "metadata": {
    "collapsed": true
   },
>>>>>>> 4f98746aa3497c5e490610381aaf5447677d0e1d
   "outputs": [],
   "source": [
    "# weighted_rolls\n",
    "unfair_rolls = np.random.choice(np.arange(1, 7), p = [0.1, 0.05, 0.3, 0.4, 0.05, 0.1], size = (120,))"
   ]
  },
  {
   "cell_type": "code",
<<<<<<< HEAD
   "execution_count": 51,
=======
   "execution_count": 14,
>>>>>>> 4f98746aa3497c5e490610381aaf5447677d0e1d
   "metadata": {},
   "outputs": [
    {
     "data": {
      "text/plain": [
<<<<<<< HEAD
       "<matplotlib.text.Text at 0x122db14e0>"
      ]
     },
     "execution_count": 51,
=======
       "<matplotlib.text.Text at 0x117ff4ef0>"
      ]
     },
     "execution_count": 14,
>>>>>>> 4f98746aa3497c5e490610381aaf5447677d0e1d
     "metadata": {},
     "output_type": "execute_result"
    },
    {
     "data": {
<<<<<<< HEAD
      "image/png": "iVBORw0KGgoAAAANSUhEUgAAAr4AAAE8CAYAAAAmF7I7AAAABHNCSVQICAgIfAhkiAAAAAlwSFlz\nAAALEgAACxIB0t1+/AAAF3BJREFUeJzt3Xu0rHV5H/DvkQMq5miwHoxWE02tT1uXQoNGjVFIg1WS\nKK1t7IpXPEktFRNNY7VRyLJG6w10GaM1C1G8plYUG0wRUhEvMWrVkEAkD0trmrVq23VCIR4lXpDd\nP2aObg/7fps9/D6ftc46s/fMvPOd2Xs/+7t/8868exYWFgIAALd1t5t1AAAA2AmKLwAAQ1B8AQAY\nguILAMAQFF8AAIag+AIAMATFdxBVtVBVdzvic2dU1Qenp19SVU9bZRu/UVWnb2fO7VJVJ1bVl6rq\n81V1nyPOO6Oq/rKqLltlG1dV1Q9uYabFj/+VVfXPt2rbwOyZu8vP3U1udy2P23cf5yXO+9mqeskG\nbveDVXXGeq93xDYWqupuK+Vje+2ddQB2h+7+jTVc7B8l+cJ2Z9kmj0/yke7+pSXOe1qSF3b3O1fa\nQHefuC3JgCENPnc3bI2P20oekuSuW5GF+aP4kiSpqguTXNPd51bVv0/yT5N8K8n1Sc5I8oQkD07y\n6qr6TpIrkrwhyYlJFpJcmkl5vLmqfibJK5N8J8lVSU5N8pNJTknyi0nulOSvk/xckv+Y5P6ZDKFD\nSZ7U3V1VVyb5XCZD//gkr0ty9yQnT6//xO6+eon7cU6SX0hyc5Lrkjw7yU8neVaSo6rqjt395EWX\nf22SH09y36ran+T3p/frB5Lcc5r/X3T3N6pqIcn+ae7v3o/u/qkjMnwzyX9JckKSJye5Y5JXJzl2\n+pie3d0fWubrsDfJ66eP17eS/I8kz+jury11eWB+DT53v97dZ1fVDyX5SpJTu/uKqnpyktO7+4lV\n9YvTbdxu+pg8u7v//IjHbbn7nST3qKrfT/LD02xPSnLnJGdOc/11d79ohdu5Z5K3ZfK74H9OH5Pl\nvo53TfJ3knwwyX9Y7uu0zPWfkOTsJLdM78e/7e6PLXVZNs+uDmP5yPTp+quq6qokt3qqp6runeS5\nSR7S3Q9OcnmSh3b3G5J8NpMfyIuT/FYmA+KBmQzmE5I8r6r+VpJ3JHnKdIX0I0n+9qKbeECSU6Zl\n8bQkN3b3w7r7/kn+eyYD87D7dPc/zGT4vzLJldNMH0ryy0tkf8Z0mw/p7gcluSbJhd39riRvSvKe\nxcM3Sbr7Vxfdr9cm+ZdJ3tbdD09yvyT3TfKzSzyWi+/HkY5Jckl3V5IvJ7koyXOmmZ6e5J1Vdd8l\nrpckD8/kF9WDuvukTIrvg5a5LLD7mbtHzN0kFyd57PT0Y5P830wKa5KcnuSiqjo5k3n5yGmeVyV5\n/xG3vdr9/tFMZu8Dk3wsyfO6+9OLcr1oldt5Q5JPdfcDkvxKkr935P1f5NjufkB3vyDLfJ1WuO6r\nkzxr+jifk8nvALaJ4juWn+ruEw//S7LU00X/K8mfJPl8VZ2b5Kru/sASlzstyW9390J3fzOTQXJa\nkkcl+UJ3/0mSdPfbknx10fX+tLu/Oj3voiQXVtUvV9XrMvlh/4FFlz08fL40/f9Diz5e6mmq05K8\ntbu/Pv34dUl+uqqOWerBWMYLkhysqudnsipyzyMy3ep+LOPj0/8fmuSL02Gb7v6zJH+Y5Qfb1Zn8\nxf/pqvrNJO/r7k+uIz+wu5i7t/aJJPeqquMzKb4vTfLo6XVOTvJfM1lwuF+ST07/YHhVkrtW1eIM\nq93vz3T3F6enr8rSK7Yr3c6pSS6cbvuLmay4r3SfDlvu67Sc/5Tk4qp6c5LjphnYJoov36e7b8lk\n8JyRyV+sr50OxyMd+b1zuyRHZ/J00p4jzrtl0envPmVfVf86yQVJbkry7iS/e8R1v3lEtm+vEn+p\nTHuXyLOS303yzEye1nptks8vc/3Vdj04fP5SP2OHH6tb6e4b873Vge8keU9V/erqsYF5Ndrcnd7f\nSzIpnQ9Lcn6SeyT5+SR/NN2166gk71j0B8OPZbJ6esOiTa12vxdnX1gm00q3c+R1ltxVYWrx74Tl\nvk5L6u4XJXlEJqv7ZyT5o6rSz7aJB5bvU1UnZPJU1bXd/fJMyt8J07Nvzvd+eC9LclZV7amq22dS\nFv8gk9XM+1fVg6bb+2dJfjCTAXKkx2TylNgFSTrJ4zIZQht1WZJnVNWdph//SpKPTf/iXqvHJHlJ\nd79nmvmhm8z0qSRVVT+eyYkHZLJKceVSF66qn0vy4SSf7O4XJ3l7vvf4A7dBg87di5M8P8nV3f2t\nTFZTX57JrmHJZHePX6iqe0w/PjOT2bjYeu73Yosf05Vu50OZPMapqh9OstSubUtZ7ut0K1W1t6r+\nIsmduvtNmexr/PezQlFmcxRfvs/0KaP/nOSzVfXZJAeSHF5xvCTJuVX19EyG2/GZPDV/dSYD9GXd\n/f8yeZHD26vq85kM2ZszWV040rlJ/tX06aUPZ7K6er9NxL8gyX9L8pmqujaTv9yP3LdsNS/M5Cmn\nz2by9NRHN5Opu/8qk1WM11fV1ZmssDyju69b5iqXJvmzJNdMM/xEkhdv9PaB3W/QufvhTPbHPVwI\nL8vkhXSXJEl3X5bJPsZ/UFV/mskL057Q3d8tteu830fe9uOr6vWr3M5ZSf7B9H5dkMnuEmux5Ndp\nqQtOX/D23CTvnt6H9yY5sM4FG9Zhz8LCan8YwdpV1Z0zeXXqi7v7pqr6sUzeKeGeiwcWAFtj1Lk7\n6v1mcxRftlxVvTSTt+X59vTfv+nuj698LQA2atS5O+r9ZuMUXwAAhrCmA1hM9zs5/BYhX85kX5UL\nM9mB/JokZ01fpQnAjJnZAEtbtfhW1R2S7OnuUxZ97vcyOfrUlVX1pkzecPribUsJwJqY2QDLW8uK\n7wlJjq2qy6eXf2GSkzJ5tXsyeRX6P44hCrAbmNkAy1hL8b0pk7c/eXOSv5vJ0Nyz6BWTh5LcZaUN\n3Hzzdxb27t3M2wQCzNR6DoIya5ue2Ym5Dcy1ZWf2WorvdZkccnUhyXVVdX0mqweH7Uty40obuOGG\n1d5Sb+ft378vBw8emnWMdZvX3Mn8Zpd7Z+3G3Pv375t1hPXY9MxOzO2tJPfOkntn7cbcK83stRzA\n4kCS85Kkqu6Z5M5JLq+qU6bnn5bEW4cA7A5mNsAy1rLie0GSC6vqE5m8IvhAkr9Kcn5VHZPk2nzv\nEIMAzJaZDbCMVYvv9BjaT1rirJO3Pg4Am2FmAyxvLbs6AADA3FN8AQAYguILAMAQFF8AAIag+AIA\nMATFFwCAISi+AAAMQfEFAGAIii8AAENQfAEAGILiCwDAEBRfAACGoPgCADAExRcAgCEovgAADEHx\nBQBgCIovAABD2DvrAADAWA684opt2/Yl552+bdtm/lnxBQBgCIovAABDUHwBABiC4gsAwBAUXwAA\nhqD4AgAwBMUXAIAhKL4AAAxB8QUAYAiKLwAAQ1B8AQAYguILAMAQFF8AAIag+AIAMATFFwCAISi+\nAAAMQfEFAGAIii8AAENQfAEAGILiCwDAEBRfAACGoPgCADAExRcAgCEovgAADEHxBQBgCIovAABD\nUHwBABiC4gsAwBD2ruVCVXV8ks8leXSSm5NcmGQhyTVJzuruW7YrIADrZ24D3NqqK75VdXSS30ny\nN9NPvSbJ2d39yCR7kpy+ffEAWC9zG2Bpa9nV4dwkb0rylenHJyX56PT0pUlO3YZcAGycuQ2whBV3\ndaiqM5Ic7O7LqurXp5/e090L09OHktxltRs57rhjs3fvUZsKuh3279836wgbMq+5k/nNLvfOmtfc\nu4G5vTvJvbPk3lnzlHu1fXwPJFmoqlOTnJjk7UmOX3T+viQ3rnYjN9xw04YDbpf9+/fl4MFDs46x\nbvOaO5nf7HLvrN2Ye56GesztXUfunTePuef18d6NuVea2Svu6tDdj+ruk7v7lCRXJXlakkur6pTp\nRU5L8vGtiQnAZpnbAMtb07s6HOHXkpxfVcckuTbJRVsbCYAtZm4DZB3Fd7p6cNjJWx8FgK1kbgN8\nPwewAABgCBvZ1QEA2AUOvOKKbdv2Jed5u2due6z4AgAwBMUXAIAhKL4AAAxB8QUAYAiKLwAAQ1B8\nAQAYguILAMAQFF8AAIag+AIAMATFFwCAISi+AAAMQfEFAGAIii8AAENQfAEAGILiCwDAEBRfAACG\noPgCADAExRcAgCEovgAADEHxBQBgCIovAABDUHwBABiC4gsAwBAUXwAAhqD4AgAwBMUXAIAhKL4A\nAAxB8QUAYAiKLwAAQ1B8AQAYguILAMAQFF8AAIag+AIAMATFFwCAISi+AAAMQfEFAGAIii8AAENQ\nfAEAGILiCwDAEBRfAACGoPgCADAExRcAgCEovgAADEHxBQBgCHtXu0BVHZXk/CSVZCHJmUm+keTC\n6cfXJDmru2/ZvpgArIWZDbC8taz4Pi5JuvsRSc5O8rIkr0lydnc/MsmeJKdvW0IA1sPMBljGqsW3\nuz+Q5JnTD38kyY1JTkry0ennLk1y6rakA2BdzGyA5a1pH9/uvrmq3pbk9UnelWRPdy9Mzz6U5C7b\nlA+AdTKzAZa26j6+h3X306vqBUk+neSOi87al8mKwrKOO+7Y7N171MYSbqP9+/fNOsKGzGvuZH6z\ny72z5jX3brKZmZ2Y21tN7p0l986ap9xreXHbU5Pcq7tfnuSmJLck+WxVndLdVyY5LclHVtrGDTfc\ntAVRt9b+/fty8OChWcdYt3nNncxvdrl31m7MPU9DfStmdmJub6V5zZ1E7h00r98nuzH3SjN7LSu+\n70/y1qr6WJKjkzw3ybVJzq+qY6anL9qCnABsnpkNsIxVi293fz3JE5c46+StjwPAZpjZAMtzAAsA\nAIag+AIAMATFFwCAISi+AAAMQfEFAGAIii8AAENQfAEAGILiCwDAEBRfAACGoPgCADAExRcAgCEo\nvgAADEHxBQBgCIovAABDUHwBABiC4gsAwBAUXwAAhqD4AgAwBMUXAIAhKL4AAAxB8QUAYAiKLwAA\nQ1B8AQAYguILAMAQFF8AAIag+AIAMATFFwCAISi+AAAMYe+sA6zkwCuu2LZtX3Le6du2bQAAdh8r\nvgAADEHxBQBgCIovAABDUHwBABiC4gsAwBAUXwAAhqD4AgAwBMUXAIAhKL4AAAxB8QUAYAi7+pDF\nwO7kcOIAzCMrvgAADEHxBQBgCIovAABDUHwBABiC4gsAwBC8qwPMkHdHAICdY8UXAIAhrLjiW1VH\nJ3lLkvskuX2Slyb5QpILkywkuSbJWd19y7amBGBNzG2A5a224vuUJNd39yOTPDbJbyd5TZKzp5/b\nk8TzqQC7h7kNsIzViu97k5wzPb0nyc1JTkry0ennLk1y6vZEA2ADzG2AZay4q0N3fy1JqmpfkouS\nnJ3k3O5emF7kUJK7rHYjxx13bPbuPWqTUbfe/v37Zh1hQ+Y1dzK/2eXeWfOaezcwt3cnuXeW3Dtr\nnnKv+q4OVXXvJBcneWN3v7uqXrXo7H1JblxtGzfccNPGE26jgwcPzTrCuu3fv28ucyfzm31ecyfz\n+T2e7L7c8zTUk9vu3J7Xn8V5zZ3svp/FtZrH3PP6fbIbc680s1fc1aGq7p7k8iQv6O63TD/9x1V1\nyvT0aUk+vgUZAdgC5jbA8lZb8X1hkuOSnFNVh/cZe06S36qqY5Jcm8lTaQDsDuY2wDJW28f3OZkM\nzCOdvD1xANgMcxtgeQ5gAQDAEByymO/jELoAwG2VFV8AAIag+AIAMATFFwCAISi+AAAMQfEFAGAI\nii8AAENQfAEAGILiCwDAEBRfAACG4Mht28DRz3aexxwAWI0VXwAAhqD4AgAwBMUXAIAhKL4AAAxB\n8QUAYAiKLwAAQ1B8AQAYguILAMAQFF8AAIag+AIAMATFFwCAISi+AAAMQfEFAGAIii8AAENQfAEA\nGILiCwDAEPbOOgAAANvnwCuu2LZtX3Le6du27e1gxRcAgCEovgAADEHxBQBgCIovAABDUHwBABiC\n4gsAwBAUXwAAhqD4AgAwBMUXAIAhKL4AAAxB8QUAYAiKLwAAQ1B8AQAYguILAMAQFF8AAIag+AIA\nMATFFwCAIexdy4Wq6qFJXtndp1TV/ZJcmGQhyTVJzuruW7YvIgDrZW4D3NqqK75V9fwkb05yh+mn\nXpPk7O5+ZJI9SU7fvngArJe5DbC0tezq8KUkT1j08UlJPjo9fWmSU7c6FACbYm4DLGHVXR26+31V\ndZ9Fn9rT3QvT04eS3GW1bRx33LHZu/eojSXcRvv375t1hA2Z19zJ/GaXe2fNa+7dwtzefeTeWXLv\nrHnKvaZ9fI+weL+wfUluXO0KN9xw0wZuZvsdPHho1hE2ZF5zJ/ObXe6dtdtyz9NQX8ZtYm7v379v\n131vrMW85k5238/iWs1jbt8nW2elmb2Rd3X446o6ZXr6tCQf38A2ANg55jZANrbi+2tJzq+qY5Jc\nm+SirY0EwBYztwGyxuLb3X+R5GHT09clOXkbMwGwSeY2wK05gAUAAEPYyK4OALCkA6+4Ytu2fcl5\n3n4Y2BwrvgAADEHxBQBgCIovAABDUHwBABiC4gsAwBAUXwAAhqD4AgAwBMUXAIAhKL4AAAxB8QUA\nYAgOWQwAsAYOyT3/rPgCADAExRcAgCEovgAADEHxBQBgCIovAABDUHwBABiC4gsAwBAUXwAAhqD4\nAgAwBMUXAIAhOGQxAMNzKFoYgxVfAACGoPgCADAExRcAgCEovgAADEHxBQBgCIovAABDUHwBABiC\n4gsAwBAUXwAAhqD4AgAwBMUXAIAhKL4AAAxB8QUAYAiKLwAAQ1B8AQAYguILAMAQFF8AAIag+AIA\nMATFFwCAISi+AAAMQfEFAGAIii8AAENQfAEAGMLejVypqm6X5I1JTkjyzSS/1N1f3MpgAGwNMxtg\nYqMrvv8kyR26++FJ/l2S87YuEgBbzMwGyMaL708m+VCSdPenkjx4yxIBsNXMbIAkexYWFtZ9pap6\nc5L3dfel04//MsmPdvfNW5wPgE0yswEmNrri+9Uk+xZvxwAF2LXMbIBsvPj+YZKfSZKqeliSq7cs\nEQBbzcwGyAbf1SHJxUkeXVWfTLInyTO2LhIAW8zMBsgG9/EFAIB54wAWAAAMQfEFAGAIG93Hd+5V\n1UOTvLK7T5l1lrWoqqOTvCXJfZLcPslLu/v3ZhpqDarqqCTnJ6kkC0nO7O5rZptq7arq+CSfS/Lo\n7v7zWedZi6r6fCav4k+SL3f3XOzPWVW/nuTxSY5J8sbuvmDGkdhFzOydYWbPhrm9c4YsvlX1/CRP\nTfL1WWdZh6ckub67n1pVd01yVZJdP0STPC5JuvsRVXVKkpclOX2midZo+ovrd5L8zayzrFVV3SHJ\nnnkpB4dNvzd+Iskjkhyb5HkzDcSuYmbvKDN7h5nbO2vUXR2+lOQJsw6xTu9Ncs709J4kc/EenN39\ngSTPnH74I0lunGGc9To3yZuSfGXWQdbhhCTHVtXlVXXF9K2r5sFjMnmLrYuTXJLkg7ONwy5jZu8Q\nM3smzO0dNGTx7e73Jfn2rHOsR3d/rbsPVdW+JBclOXvWmdaqu2+uqrcleX2Sd806z1pU1RlJDnb3\nZbPOsk43ZTL8H5PkzCTvqqp5eGbnbpkcRvfn873ce2Ybid3CzN5ZZvaOM7d30JDFd15V1b2TfCTJ\nO7r73bPOsx7d/fQk909yflXdadZ51uBAJu97emWSE5O8vap+aLaR1uS6JO/s7oXuvi7J9UnuMeNM\na3F9ksu6+1vd3Um+kWT/jDPBppjZO2peZ3Zibu+oefiLgiRVdfcklyd5dnd/eNZ51qqqnprkXt39\n8kz+qr1l+m9X6+5HHT49HaRndvf/mV2iNTuQ5IFJnlVV90xy5yT/e7aR1uQTSZ5TVa/JZODfKZOh\nCnPJzN5ZczyzE3N7Rym+8+OFSY5Lck5VHd5v7LTu3u078b8/yVur6mNJjk7y3DnIPM8uSHJhVX0i\nk1dkH+juXb9vYXd/sKoeleQzmTwTdVZ3f2fGsWAzzGzWytzeQY7cBgDAEOzjCwDAEBRfAACGoPgC\nADAExRcAgCEovgAADEHxBQBgCIovAABDUHwBABjC/wc/ErV08M3CvQAAAABJRU5ErkJggg==\n",
      "text/plain": [
       "<matplotlib.figure.Figure at 0x122b69a58>"
=======
      "image/png": "iVBORw0KGgoAAAANSUhEUgAAAr4AAAE8CAYAAAAmF7I7AAAABHNCSVQICAgIfAhkiAAAAAlwSFlz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\nhvD/Ad6GtQRYqnCcAAAAAElFTkSuQmCC\n",
      "text/plain": [
       "<matplotlib.figure.Figure at 0x114aa63c8>"
>>>>>>> 4f98746aa3497c5e490610381aaf5447677d0e1d
      ]
     },
     "metadata": {},
     "output_type": "display_data"
    }
   ],
   "source": [
    "fig = plt.figure(figsize = (12, 5))\n",
    "ax1 = fig.add_subplot(121)\n",
    "ax1.hist(fair_rolls, bins = 6, range = (0.5, 6.5), width = 0.5)\n",
    "ax1.set_ylim(0, 50)\n",
    "ax1.set_title(\"Histogram of fair rolls\")\n",
    "\n",
    "ax2 = fig.add_subplot(122)\n",
    "ax2.hist(unfair_rolls, bins = 6, range = (0.5, 6.5), width = 0.5)\n",
    "ax2.set_ylim(0, 50)\n",
    "ax2.set_title('Histogram of weighted rolls')"
   ]
  },
  {
   "cell_type": "code",
<<<<<<< HEAD
   "execution_count": 63,
   "metadata": {},
=======
   "execution_count": 15,
   "metadata": {
    "collapsed": true
   },
>>>>>>> 4f98746aa3497c5e490610381aaf5447677d0e1d
   "outputs": [],
   "source": [
    "# get frequencies for fair counts\n",
    "fair_counts = Counter(fair_rolls)\n",
    "fair_freqs = [fair_counts[i] for i in range(1, 7)]"
   ]
  },
  {
   "cell_type": "code",
<<<<<<< HEAD
   "execution_count": 64,
   "metadata": {},
=======
   "execution_count": 16,
   "metadata": {
    "collapsed": true
   },
>>>>>>> 4f98746aa3497c5e490610381aaf5447677d0e1d
   "outputs": [],
   "source": [
    "# frequencies for unfair counts\n",
    "unfair_counts = Counter(unfair_rolls)\n",
    "unfair_freqs = [unfair_counts[i] for i in range(1, 7)]"
   ]
  },
  {
   "cell_type": "code",
<<<<<<< HEAD
   "execution_count": 61,
=======
   "execution_count": 17,
>>>>>>> 4f98746aa3497c5e490610381aaf5447677d0e1d
   "metadata": {},
   "outputs": [
    {
     "data": {
      "text/plain": [
<<<<<<< HEAD
       "Counter({1: 9, 2: 5, 3: 39, 4: 46, 5: 7, 6: 14})"
      ]
     },
     "execution_count": 61,
=======
       "Counter({1: 7, 2: 6, 3: 40, 4: 48, 5: 3, 6: 16})"
      ]
     },
     "execution_count": 17,
>>>>>>> 4f98746aa3497c5e490610381aaf5447677d0e1d
     "metadata": {},
     "output_type": "execute_result"
    }
   ],
   "source": [
    "Counter(unfair_rolls)"
   ]
  },
  {
   "cell_type": "code",
<<<<<<< HEAD
   "execution_count": 65,
=======
   "execution_count": 18,
>>>>>>> 4f98746aa3497c5e490610381aaf5447677d0e1d
   "metadata": {},
   "outputs": [
    {
     "data": {
      "text/plain": [
<<<<<<< HEAD
       "Power_divergenceResult(statistic=2.0, pvalue=0.84914503608460956)"
      ]
     },
     "execution_count": 65,
=======
       "Power_divergenceResult(statistic=10.5, pvalue=0.062245928090905941)"
      ]
     },
     "execution_count": 18,
>>>>>>> 4f98746aa3497c5e490610381aaf5447677d0e1d
     "metadata": {},
     "output_type": "execute_result"
    }
   ],
   "source": [
    "scs.chisquare(fair_freqs)"
   ]
  },
  {
   "cell_type": "code",
<<<<<<< HEAD
   "execution_count": 66,
=======
   "execution_count": 19,
>>>>>>> 4f98746aa3497c5e490610381aaf5447677d0e1d
   "metadata": {},
   "outputs": [
    {
     "data": {
      "text/plain": [
<<<<<<< HEAD
       "Power_divergenceResult(statistic=79.400000000000006, pvalue=1.1203714013945535e-15)"
      ]
     },
     "execution_count": 66,
=======
       "Power_divergenceResult(statistic=92.700000000000003, pvalue=1.8191423272279912e-18)"
      ]
     },
     "execution_count": 19,
>>>>>>> 4f98746aa3497c5e490610381aaf5447677d0e1d
     "metadata": {},
     "output_type": "execute_result"
    }
   ],
   "source": [
    "scs.chisquare(unfair_freqs)"
   ]
  },
  {
   "cell_type": "code",
<<<<<<< HEAD
   "execution_count": 68,
=======
   "execution_count": 25,
>>>>>>> 4f98746aa3497c5e490610381aaf5447677d0e1d
   "metadata": {},
   "outputs": [
    {
     "data": {
      "text/plain": [
<<<<<<< HEAD
       "(0.082417582417582333, 0.77404752369756391, 1, array([[ 2.8,  4.2],\n",
       "        [ 5.2,  7.8]]))"
      ]
     },
     "execution_count": 68,
=======
       "<function scipy.stats.contingency.chi2_contingency>"
      ]
     },
     "execution_count": 25,
>>>>>>> 4f98746aa3497c5e490610381aaf5447677d0e1d
     "metadata": {},
     "output_type": "execute_result"
    }
   ],
   "source": [
<<<<<<< HEAD
    "scs.chi2_contingency"
=======
    "scs.chi2_contingency\n"
>>>>>>> 4f98746aa3497c5e490610381aaf5447677d0e1d
   ]
  },
  {
   "cell_type": "code",
   "execution_count": null,
   "metadata": {
    "collapsed": true
   },
   "outputs": [],
   "source": []
  }
 ],
 "metadata": {
  "kernelspec": {
   "display_name": "Python 3",
   "language": "python",
   "name": "python3"
  },
  "language_info": {
   "codemirror_mode": {
    "name": "ipython",
    "version": 3
   },
   "file_extension": ".py",
   "mimetype": "text/x-python",
   "name": "python",
   "nbconvert_exporter": "python",
   "pygments_lexer": "ipython3",
   "version": "3.6.1"
  }
 },
 "nbformat": 4,
 "nbformat_minor": 2
}
